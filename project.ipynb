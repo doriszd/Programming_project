{
 "cells": [
  {
   "cell_type": "markdown",
   "metadata": {},
   "source": [
    "#### Programming for Data Analysis\n",
    "#### Weight gain and hormonal imbalance"
   ]
  },
  {
   "cell_type": "markdown",
   "metadata": {},
   "source": [
    "#### Introduction"
   ]
  },
  {
   "cell_type": "markdown",
   "metadata": {},
   "source": [
    "#### Aims\n",
    "\n",
    "The aim of this research is to see the difference in weight when a person is going through some hormonal imbalance problems. I will also have a look at data that shows the influence of BMI, sex and age of a person. "
   ]
  },
  {
   "cell_type": "markdown",
   "metadata": {},
   "source": [
    "#### Variables explained\n",
    "\n",
    "1. Weight \n",
    "\n",
    "Weight gain occurs when you regularly eat more calories than you use through normal bodily functions and physical activity. But the lifestyle habits causing your weight gain aren't always obvious.\n",
    "\n",
    "Losing weight means eating fewer calories and burning more energy through physical activity.\n",
    "\n",
    "It sounds simple. But more than 60% of adults in England are overweight or obese. Our lifestyles see many of us eating more calories than we need and not doing enough physical activity.\n",
    "https://www.nhs.uk/live-well/healthy-weight/hidden-causes-of-weight-gain/\n",
    "\n",
    "Obesity is becoming one of the fastest growing health problems in Ireland as well. One in eight Irish people are obese and every second person is overweight. The trends from the second SLÁN survey on people’s lifestyles show that as a nation we are becoming progressively heavier – witnessed by the 30% increase in reported obesity levels over the last four years.\n",
    "https://myknee.ie/obesity\n",
    "\n",
    "2. Hormone imbalance \n",
    "\n",
    "Hormones are your body’s chemical messengers. Produced in the endocrine glands, these powerful chemicals travel around your bloodstream telling tissues and organs what to do. They help control many of your body’s major processes, including metabolism and reproduction.\n",
    "\n",
    "When you have a hormonal imbalance, you have too much or too little of a certain hormone. Even tiny changes can have serious effects throughout your whole body. https://www.healthline.com/health/hormonal-imbalance#symptoms\n",
    "\n",
    "Hormones regulate appetite and metabolism, sleep cycles, heart rate, sexual function, general mood and stress levels, and body temperature. https://flo.health/menstrual-cycle/health/symptoms-and-diseases/hormonal-imbalance-in-women\n",
    "\n",
    "Often the real key to losing what may be unwanted belly fat, and gaining energy, clarity, and a better mood lies with your hormones.https://goop.com/wellness/health/why-youre-not-losing-weight/\n",
    "\n",
    "Types of hormones:\n",
    "\n",
    "INSULIN: Insulin is a fat-storage hormone. Insulin resistance or block means your cells can’t absorb the extra blood glucose your body generates from the food you eat—when that happens, your liver converts the glucose into fat. \n",
    "\n",
    "LEPTIN: High leptin causes weight gain and excessive hunger. Leptin is nature’s appetite suppressant. When you’ve had enough to eat, leptin signals your brain to stop eating. When you are overweight, your fat cells produce excess leptin.\n",
    "\n",
    "ESTROGEN: Estrogen dominance is when you have too much estrogen compared with its counter-hormone, progesterone. Having too much estrogen in the body causes a number of symptoms, including weight loss resistance, moodiness\n",
    "\n",
    "THYROID: Your thyroid acts as the gas pedal of your metabolism, managing how fast or slow you burn calories. When the thyroid is sluggish, it can cause weight gain, fluid retention, hair loss or thinning, depression among other problems. \n",
    "\n",
    "https://goop.com/wellness/health/why-youre-not-losing-weight/"
   ]
  },
  {
   "cell_type": "markdown",
   "metadata": {},
   "source": [
    "3. Body mass index (BMI)\n",
    "\n",
    "Body mass index (BMI) is a value derived from the mass (weight) and height of a person. The BMI is defined as the body mass divided by the square of the body height, and is universally expressed in units of kg/m2, resulting from mass in kilograms and height in metres. The BMI is a convenient rule of thumb used to broadly categorize a person as underweight, normal weight, overweight, or obese based on tissue mass (muscle, fat, and bone) and height. https://en.wikipedia.org/wiki/Body_mass_index\n",
    "\n",
    "Body Mass Index or BMI is a way of checking to see if you are a healthy weight.  BMI uses your height and weight to calculate if you are a healthy weight, overweight or underweight.  \n",
    "\n",
    "\n",
    "\n",
    "What does your BMI mean? \n",
    "\n",
    "If your BMI is less than 18.5 then you are probably underweight\n",
    "If your BMI is between 18.5 and 25, then you probably have a healthy weight\n",
    "If your BMI is between 25 and 30 then you are probably overweight\n",
    "If your BMI is over 30 then you are probably obese\n",
    "\n",
    "\n",
    "BMI\t\n",
    "Less than 18.5 - Underweight\n",
    "18.5-25 -\tHealthy Weight\n",
    "25-30 - \tOverweight\n",
    "30 or more\t- Obese\n",
    "\n",
    "https://www.indi.ie/fact-sheets/healthy-eating,-healthy-weight-and-dieting/435-all-about-body-mass-index.html\n",
    "\n",
    "Find body mass calculator here:\n",
    "https://bmicalculatorireland.com/"
   ]
  },
  {
   "cell_type": "markdown",
   "metadata": {},
   "source": [
    "4. Sex\n",
    "\n",
    "I will include sex variable in this research because there are some differences in hormonal imbalance in males and females so I find it relevant for this research. I will include this variable to see if there is any difference in weight gain/loss when it comes to sex and hormone imbalance. Hormone imbalances are common in both men and women and they can affect  mental as well as physical health.\n",
    "\n",
    "\"In men, symptoms can include erectile dysfunction, reduced body hair growth, low sperm count and reduced sex drive.\"\n",
    "\n",
    "In women they include: “weight gain, sleep disturbances and memory loss”\n",
    "\n",
    "https://carilionclinicliving.com/article/conditions/hormone-imbalance-signs-and-treatments-men-and-women"
   ]
  },
  {
   "cell_type": "markdown",
   "metadata": {},
   "source": [
    "5. Age\n",
    "\n",
    "Age is important variable in this research because as we move through the stages of life, our hormone levels fluctuate; aging means that we produce more of some hormones and less of others (mostly the latter). https://www.rush.edu/health-wellness/discover-health/hormones-you-age\n",
    "\n",
    "These are some of the hormonal changes people can experience as they get older:\n",
    "\n",
    "For women that is menopause which happens around the age of 50. \n",
    "\n",
    "For men that is andropause.  About 20 percent of men over age 60 and 30-50 percent of men over age 80 will experience andropause, a significant decline in testosterone production."
   ]
  },
  {
   "cell_type": "markdown",
   "metadata": {},
   "source": [
    "#### Numpy.random"
   ]
  },
  {
   "cell_type": "code",
   "execution_count": null,
   "metadata": {},
   "outputs": [],
   "source": []
  },
  {
   "cell_type": "code",
   "execution_count": null,
   "metadata": {},
   "outputs": [],
   "source": []
  }
 ],
 "metadata": {
  "kernelspec": {
   "display_name": "Python 3",
   "language": "python",
   "name": "python3"
  },
  "language_info": {
   "codemirror_mode": {
    "name": "ipython",
    "version": 3
   },
   "file_extension": ".py",
   "mimetype": "text/x-python",
   "name": "python",
   "nbconvert_exporter": "python",
   "pygments_lexer": "ipython3",
   "version": "3.7.3"
  }
 },
 "nbformat": 4,
 "nbformat_minor": 2
}
