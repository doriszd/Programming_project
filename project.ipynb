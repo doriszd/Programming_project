{
 "cells": [
  {
   "cell_type": "markdown",
   "metadata": {},
   "source": [
    "### Programming for Data Analysis\n",
    "### Weight gain and hormonal imbalance"
   ]
  },
  {
   "cell_type": "markdown",
   "metadata": {},
   "source": [
    "### Introduction\n",
    "\n",
    "\n",
    "\n",
    "Weight gain is an increase in body weight. This can involve an increase in muscle mass, fat deposits, excess fluids such as water or other factors. Weight gain can be a symptom of a serious medical condition (en.wikipedia.org).\n",
    "It is a multifaceted problem with many contributing factors including but not limited to genetics, hormone levels, overconsumption of food, and sedentary lifestyle (www.ncbi.nlm).\n",
    "\n",
    "Hormones are the body's chemical messengers. They carry vital information to the cells through blood. Typically, hormones affect only certain cells, or target cells. They are produced by the endocrine glands and travel through the bloodstream to various tissues and organs. Each hormone has its own specific goal, carrying a key message to certain parts of the body. The body's hormones are essentially responsible for controlling and balancing nearly every major system. Hormones impact your growth and development, control your mood, determine how you will handle stress, and influence how the body breaks down food. All these aspects could have influence on your weight. As the human body is extremely complicated, there are certainly more features that could influence changes in your weight but in this project I will focus only on hormonal imbalance conditions that could have impact on someone's weight taking into consideration other relevant characteristics like age, sex and Body Mass index and look into their relationship. In the next few paragraphs I will give better overview of weight gain and conditions that could influence it and types of hormonal imbalance that could have negative impact on weight gain. \n",
    "\n",
    "### Previous findings on hormonal imbalance and weight gain\n",
    "\n",
    "What are the Different Types of Hormones?\n",
    "\n",
    "Endocrine glands are located throughout the body. These glands include the:\n",
    "\n",
    "- Hypothalamus: controls thirst, hunger, sleep, sex drive, moods, body temperature, and the release of other hormones\n",
    "- Parathyroid: controls calcium\n",
    "- Thymus: controls the adaptive immune system\n",
    "- Pancreas: controls blood sugar levels\n",
    "- Thyroid: controls heart rate and calorie burn\n",
    "- Adrenal: controls stress and sex drive\n",
    "- Pituitary: controls growth\n",
    "- Pineal: controls sleep\n",
    "- Ovaries, in women: controls female sex hormones\n",
    "- Testes, in men: controls male sex hormones\n",
    "\n",
    "There are several different types of hormones in the body. When you have a hormonal imbalance, you may have a problem in one of more of these glands. The specific hormone that's imbalanced will determine the signs and symptoms that you experience as a result (www.hormone.org).\n",
    "\n",
    "\n",
    "Weight gain develops gradually from poor diet and lifestyle choices and, medical conditions and to some extent, from your genes. According to Irish Health Service Executive (Feidhmeannacht na Seirbhise Slainte, hse.ie) there are 4 main reasons why people gain weight. I will detail each of them below. \n",
    "\n",
    "###### Lifestyle choices\n",
    "\n",
    "\n",
    "Lifestyle choices are an important factor in influencing weight. Eating more calories than you need may be down to unhealthy food choices. For example, unhealthy food choices could be:\n",
    "\n",
    "- eating processed or fast food \n",
    "- drinking too much alcohol\n",
    "- not eating fruit, vegetables and unrefined carbohydrates\n",
    "- eating larger portions than you need\n",
    "\n",
    "###### Lack of physical activity\n",
    "\n",
    "Lack of physical activity is another important factor that is related to weight gain. Many people have jobs that involve sitting at a desk for most of the day, and rely heavily on their cars to get around. When it is time to relax, people tend to watch TV, or play computer games, and rarely take any regular exercise.\n",
    "\n",
    "If you are not active enough, you do not use up the energy provided by the food you eat, and the extra calories are stored as fat instead.\n",
    "\n",
    "The National Guidelines on Physical Activity for Ireland recommend that adults do at least 150 minutes (2 hours and 30 minutes) of moderate-intensity aerobic activity (i.e. cycling or fast walking) every week.\n",
    "\n",
    "###### Genes\n",
    "\n",
    "Some people tend to stay the same weight for years without much effort, whereas others find they put on weight quickly if they are not careful about what they eat. This could be due, in part, to genes.\n",
    "\n",
    "Some genetic conditions can increase appetite, so people end up eating too much. There are also genes that determine how much fat your body stores. A particular genetic variation could mean that your body is more likely to store fat than somebody else. \n",
    "\n",
    "###### Medical reasons\n",
    "\n",
    "Medical conditions that can cause weight gain include:\n",
    "\n",
    "- Cushing's syndrome - a rare disorder that causes an over-production of steroid hormones (chemicals produced by the body),\n",
    "- an under-active thyroid gland (hypothyroidism) - when your thyroid gland does not produce enough thyroid hormone (called thyroxine, or T4), and\n",
    "- polycystic ovary syndrome (PCOS) - when women have a large number of cysts in their ovaries.\n",
    "- Certain medicines, including some corticosteroids and antidepressants, can also contribute to weight gain. Weight gain can also be a side effect of taking the combined contraceptive pill, and from quitting smoking.\n",
    "\n",
    "In this work I will focus only on weight changes that are related to hormonal imbalance. As we can see above, there are a lot of reasons why a person can gain some weight, from life style, genes or medical conditions. There is variety of hormones that regulate our body, but not all of them have a negative impact on our weight gain. According to various researchers most common hormones that can influence our body are: \n",
    "\n",
    "1. Estrogen\n",
    "\n",
    "It should be noted that both low and high levels of estrogen can lead to weight gain. Overproduction of estrogen by the ovarian calls or eating food rich in estrogen can cause high estrogen levels. A healthy body produces desired amount of insulin and keeps blood sugar levels in check. However, high levels of estrogen in the body stresses the cells that produce insulin. This makes our body insulin resistant and lead to high glucose levels, which in turn lead to weight gain. Mostly, lower levels of estrogen are found in older people when there is less production of estrogen hormones. To produce more estrogen levels, body extracts fatty cells and converts all energy to fat to reload glucose levels. This is another reason for weight gain. \n",
    "\n",
    "https://timesofindia.indiatimes.com/life-style/health-fitness/photo-stories/5-hormones-that-are-related-to-weight-loss-and-how-to-maintain-them/photostory/64401434.cms?picid=64401456\n",
    "\n",
    "\n",
    "2. Thyroid hormones\n",
    "\n",
    "This gland is positioned at the base of your neck. It is responsible for producing T3, T4 and calcitonin, which maintain body’s metabolism. If these hormones are underproduced, it can lead to hypothyroidism, which is associated with weight gain. \n",
    "\n",
    "3. Insulin\n",
    "\n",
    "Insulin is secreted by the pancreas and is responsible to carry glucose into the cells. It is used as energy or stored as fat, which in turn maintains blood glucose levels. When there is an interruption in insulin levels, the body gets resistant to insulin. Muscle cells, then, fail to recognize the glucose-bound insulin and glucose remains in the bloodstream. Hence, it causes a spike in the blood sugar levels and leads to weight gain.\n",
    "\n",
    "4. Testosterone\n",
    "\n",
    "Testosterone is often considered as a male hormone, but women's bodies also secrete this hormone. Testosterone helps to maintain libido, burn fat and strengthen bones and muscles. However, due to various lifestyle factors, such as age, stress can reduce testosterone levels and can lead to obesity.\n",
    "\n",
    "5. Progesterone\n",
    "\n",
    "Progesterone is also required for the smooth functioning of the body. It can drop due to stress, menopause and also by the intake of contraceptive pills. This can cause weight gain. \n",
    "\n",
    "Now when we have some theoretical background of hormonal imbalance and its influence on gaining weight, I will go deeper into the objective of this work. Firstly I will be talking about aims of this work and methods that I will use to simulate data. "
   ]
  },
  {
   "cell_type": "markdown",
   "metadata": {},
   "source": [
    "### Aim and Method\n",
    "\n",
    "The aim of this research is to see the difference in weight when a person is going through some hormonal imbalance problems. I will also have a look at data that shows the influence of BMI, sex and age of a person on weight gain. \n",
    "\n",
    "I will look into relationship of weight and hormonal imbalances using numpy.random package to simulate data. So, this is not a research based on real-life data, it is based on simulation. Nevertheless, data will be programmed in order to show as close relationship with real-life data as possible. \n",
    "\n",
    "As mentioned before, the focus of this project is to get simulated data which will reflect real-life data. Numpy.random pseudorandom numbers are a sample of numbers that look close to true random numbers but are generated using some deterministic process. As computers can not produce random numbers itself, they need packages and algorithms that would deal with it. Numpy.random package is one of the libraries in Python that generates pseudorandom data.\n",
    "\n",
    "Within the package there are many different functions and distributions. You can find more information about numpy.random package and its features here: https://docs.scipy.org/doc/numpy-1.15.0/reference/routines.random.html#\n",
    "\n",
    "Numpy.random package consists of 4 parts:\n",
    "\n",
    "1. Simple random data\n",
    "\n",
    "There are 10 different functions that give random values in a given shape, intervals or distribution. Most common distributions are standard normal distribution, discrete uniform and continuous uniform distributions. \n",
    "\n",
    "2. Permutations\n",
    "\n",
    "A random permutation is a random ordering of a set of objects, that is, a permutation-valued random variable. The use of random permutations is often fundamental to fields that use randomized algorithms such as coding theory, cryptography, and simulation. A good example of a random permutation is the shuffling of a deck of cards: this is ideally a random permutation of the 52 cards.https://en.wikipedia.org/wiki/Random_permutation A permutation, also called an “arrangement number” or “order”, is a rearrangement of the elements of an ordered list. This method takes a list as an input and return an object list of tuples that contain all permutation in a list form. https://www.geeksforgeeks.org/permutation-and-combination-in-python/ There are 2 permutation functions: shuffle(x) and permutation(x).\n",
    "\n",
    "3. Distributions\n",
    "\n",
    "Every time we are working with a dataset, our dataset represents some kind of a sample and using this sample, we need to understand its patterns so that we can make predictions based on them. Datasets are composed of two main types of data: Numerical (eg. integers), and categorical (eg. names). Based on that data it is possible to calculate some predictions like Probability Mass Functions and Probability Density Functions (https://www.kdnuggets.com/2019/07/5-probability-distributions-every-data-scientist-should-know.html).\n",
    "\n",
    "4. Random generator\n",
    "\n",
    "Computers can't produce random numbers itself, they need human help. That is the reason why random numbers are deterministic which means that they operate by a set of rules, and we call them pseudorandom numbers. The pseudorandom number generator is a mathematical function that generates a sequence of nearly random numbers. It takes a parameter to start off the sequence, called the seed. As the function is deterministic, the same seed will produce the same sequence of numbers every time. https://yourbasic.org/algorithms/random-number-generator-seed/\n",
    "\n",
    "I won't discus each of these functions and distributions individually as I will be focusing only on data and distributions necessary for this project. Main distribution used in this project is Normal distribution. \n",
    "\n",
    "1. Normal distribution\n",
    "\n",
    "\n",
    "It represents the behavior of most of the situations in the universe. That is why it's called a “normal” distribution. The large sum of (small) random variables often turns out to be normally distributed, contributing to its widespread application. Any distribution is known as Normal distribution if it has the following characteristics:\n",
    "\n",
    "- The mean, median and mode of the distribution coincide.\n",
    "- The curve of the distribution is bell-shaped and symmetrical about the line x=μ.\n",
    "- The total area under the curve is 1.\n",
    "- Exactly half of the values are to the left of the center and the other half to the right.\n",
    "\n",
    "![alt text](N1.png \"Normal distribution\")\n",
    "\n",
    "\n",
    "\n",
    "Image taken from: https://towardsdatascience.com/understanding-the-68-95-99-7-rule-for-a-normal-distribution-b7b7cbf760c2\n",
    "\n",
    "The normal distribution is commonly associated with the 68-95-99.7 rule which you can see in the image above. 68% of the data is within 1 standard deviation (σ) of the mean (μ), 95% of the data is within 2 standard deviations (σ) of the mean (μ), and 99.7% of the data is within 3 standard deviations (σ) of the mean (μ)."
   ]
  },
  {
   "cell_type": "markdown",
   "metadata": {},
   "source": [
    "### Interpretation of variables \n",
    "\n",
    "#### 1. Age\n",
    "\n",
    "Age is important variable in this research because as we move through the stages of life, our hormone levels fluctuate; aging means that we produce more of some hormones and less of others.. https://www.rush.edu/health-wellness/discover-health/hormones-you-age\n",
    "\n",
    "The most common consequence of aging-related hormonal changes is menopause. Around age 50, women's ovaries begin producing decreasing amounts of estrogen and progesterone; the pituitary gland tries to compensate by producing more follicle stimulating hormone (FSH). It can be easy to chalk up changes in mood, weight and menstrual patterns to the normal hormonal fluctuations of aging, but they can also be the result of thyroid disease, which affects 30 million Americans of all ages.\n",
    "\n",
    "\n",
    "Although certain age is more likely to be affected by hormonal changes, in this research I am interested in men and women of mature age in general. I will include the range from 18 years old as this is time when people are thought of as adults all the way up to 60 years old. My will be focusing on adult, working age target group. \n",
    "\n",
    "There will be a sample of 500 data. I have chosen 500 rows of data as I think sample size of 500 is a good number to make some predictions and investigate relationship between the variables. In order to simulate data with numpy random package, I will use random.randint function. Return random integers from the “discrete uniform” distribution of the specified dtype in the “half-open” interval [low, high] This is the example code that will be used as a part of data set: \n"
   ]
  },
  {
   "cell_type": "markdown",
   "metadata": {},
   "source": [
    "```\n",
    "# Returns a random years of age in a range from 18 up to 60\n",
    "Age = np.random.randint(18,60, 500)\n",
    "```"
   ]
  },
  {
   "cell_type": "markdown",
   "metadata": {},
   "source": [
    "As you can see above, there is \"Age\" variable shown. I used np.random.randint function that has three parameters (18, 60, 500). Number 18 signifies lower end of the range while 60 is higher end of the range. Number 500 is number of the sample size. This function will return random integers from the discrete uniform distribution which means that any value within the given interval is equally likely to be drawn. I have chosen this function because age is an important variable in weight gain and hormonal imbalance. It will be interesting to see the difference of weight gain related to certain age. "
   ]
  },
  {
   "cell_type": "markdown",
   "metadata": {},
   "source": [
    "#### 2. Sex\n",
    "\n",
    "I will include sex variable in this research because there are some differences in hormonal imbalance in males and females so in this case I find it relevant information. I will include this variable to see if there is any difference in weight changes  when it comes to sex and hormone imbalance. Hormone imbalances are common in both men and women and they can affect  mental as well as physical health.\n",
    "\n",
    "\"In men, symptoms can include erectile dysfunction, reduced body hair growth, low sperm count and reduced sex drive.\"\n",
    "\n",
    "In women they include: “weight gain, sleep disturbances and memory loss”\n",
    "\n",
    "https://carilionclinicliving.com/article/conditions/hormone-imbalance-signs-and-treatments-men-and-women\n",
    "\n",
    "In 2011 the National Adult Nutrition Survey conducted by the Irish University Nutrition Alliance showed that 26% of men and 21% of women were obese.\n",
    "https://www.hse.ie/eng/health/az/o/obesity/\n",
    "\n",
    "There are more women than men living in Ireland, according to the Census 2016 results. The figures, released by the Central Statistics Office (CSO), show that, of the 4,761,865 people in Ireland on the night of the Census, 2,407,437 were female and 2,354,428 were male (a difference of 53,009). The sex ratio is 51% of women as opposed to 49% of men. That ratio will be used in simulating data for my data set. I will run random.choice function to get data similar to Irish statistics. Code below will be run in a data set. \n"
   ]
  },
  {
   "cell_type": "markdown",
   "metadata": {},
   "source": [
    "```\n",
    "# Sex variable returns males and females in ratio 49%-51%\n",
    "Sex = np.random.choice(500, p=[0.49, 0.51])\n",
    "```"
   ]
  },
  {
   "cell_type": "markdown",
   "metadata": {},
   "source": [
    "numpy.random.choice generates a random sample from a given 1-D array. There are 2 parameters. First one (number 500) signifies the sample size and the p signifies a ratio between males and females. I have to associate probabilities with each entry because otherwise uniform distribution will be drawn."
   ]
  },
  {
   "cell_type": "markdown",
   "metadata": {},
   "source": [
    "#### 3. Weight \n",
    "\n",
    "Weight gain occurs when you regularly eat more calories than you use through normal bodily functions and physical activity. But the lifestyle habits causing your weight gain aren't always obvious. Losing weight means eating fewer calories and burning more energy through physical activity. It sounds simple. But more than 60% of adults in England are overweight or obese. Our lifestyles see many of us eating more calories than we need and not doing enough physical activity.\n",
    "https://www.nhs.uk/live-well/healthy-weight/hidden-causes-of-weight-gain/\n",
    "\n",
    "Obesity is becoming one of the fastest growing health problems in Ireland as well. One in eight Irish people are obese and every second person is overweight. The trends from the second SLÁN survey on people’s lifestyles show that as a nation we are becoming progressively heavier – witnessed by the 30% increase in reported obesity levels over the last four years.\n",
    "https://myknee.ie/obesity\n",
    "\n",
    "In this research I will simulate my data with random.normal distribution as weight variable is usually distributed in accordance with normal distribution which means it has its mean (average) and standard deviation. In order to get as closer data as the one in the real world I set a standard deviation to 10 instead of 1 which is set by default. Hence, the range weight range will be from high 40 kg all the way up to about 100kg with its peak of 72 kg which is average in Europe.  \n",
    "\n"
   ]
  },
  {
   "cell_type": "markdown",
   "metadata": {},
   "source": [
    "```\n",
    "# Weight variable set with random normal distribution. \n",
    "# Average weight = 72 kg\n",
    "# Standard deviation = 10\n",
    "# Sample size = 500\n",
    "Weight = np.random.normal (72.00, 10, 500)\n",
    "```"
   ]
  },
  {
   "cell_type": "markdown",
   "metadata": {},
   "source": [
    "Explain - normal distribution/weight"
   ]
  },
  {
   "cell_type": "markdown",
   "metadata": {},
   "source": [
    "#### 4. Height\n",
    "\n",
    "I have chosen to implement this variable since it is necessary to calculate Body Mass Index (BMI) which tells us a lot about the level of fat in human body. I will run random.normal distribution because height is a type of variable that suits normal distribution in a real life. It has its average and variance that is further away from its peak. Average hight in men in Ireland is 180 cm, and women 165 cm. The function will be run in a way that 68% of data will be grouped around 173 cm, which at the same time is average height of both men and women. Standard deviation is 10 and the size is 500. The code that I will run to simulate height variable is:"
   ]
  },
  {
   "cell_type": "markdown",
   "metadata": {},
   "source": [
    "```\n",
    "# Height variable set with random normal distribution\n",
    "Height = np.random.normal (173.00, 10.00, 500)\n",
    "```"
   ]
  },
  {
   "cell_type": "markdown",
   "metadata": {},
   "source": [
    "#### 5. Body mass index (BMI)\n",
    "\n",
    "Body mass index (BMI) is a value derived from the mass (weight) and height of a person. The BMI is defined as the body mass divided by the square of the body height, and is universally expressed in units of kg/m2, resulting from mass in kilograms and height in metres. The BMI is a convenient rule of thumb used to broadly categorize a person as underweight, normal weight, overweight, or obese based on tissue mass (muscle, fat, and bone) and height. https://en.wikipedia.org/wiki/Body_mass_index\n",
    "\n",
    "Body Mass Index or BMI is a way of checking to see if you are a healthy weight. BMI uses your height and weight to calculate if you are a healthy weight, overweight or underweight. Obesity is when a person is carrying too much body fat for their height and sex. A person is considered obese if they have a body mass index (BMI) of 30 or greater.https://www.hse.ie/eng/health/az/o/obesity/\n",
    "\n",
    "What does your BMI mean?\n",
    "\n",
    "- If your BMI is less than 18.5 then you are probably underweight \n",
    "- If your BMI is between 18.5 and 25, then you probably have a healthy weight \n",
    "- If your BMI is between 25 and 30 then you are probably overweight \n",
    "- If your BMI is over 30 then you are probably obese\n",
    "\n",
    "https://www.indi.ie/fact-sheets/healthy-eating,-healthy-weight-and-dieting/435-all-about-body-mass-index.html\n",
    "\n",
    "\n",
    "In the following code I will calculate BMI based on 2 other variables, weight and height. To calculate BMI weight needs to be divided by height and multiplied by 2. In order to get data that represent above mentioned scale I will multiply it with 10000. "
   ]
  },
  {
   "cell_type": "markdown",
   "metadata": {},
   "source": [
    "```\n",
    "# BMI calculation\n",
    "df['BMI'] = df['Weight']/df['Height']**2*10000\n",
    "```"
   ]
  },
  {
   "cell_type": "markdown",
   "metadata": {},
   "source": [
    "You can find body mass calculator here:  https://bmicalculatorireland.com/"
   ]
  },
  {
   "cell_type": "markdown",
   "metadata": {},
   "source": [
    "#### 6. Hormonal imbalance\n",
    "\n",
    "Hormones are your body's chemical messengers. Produced in the endocrine glands, these powerful chemicals travel around your bloodstream telling tissues and organs what to do. They help control many of your body's major processes, including metabolism and reproduction. When you have a hormonal imbalance, you have too much or too little of a certain hormone. Even tiny changes can have serious effects throughout your whole body. https://www.healthline.com/health/hormonal-imbalance#symptoms\n",
    "Hormones regulate appetite and metabolism, sleep cycles, heart rate, sexual function, general mood and stress levels, and body temperature. https://flo.health/menstrual-cycle/health/symptoms-and-diseases/hormonal-imbalance-in-women\n",
    "\n",
    "In this work I will simulate data that relates to hormonal imbalance. As there are so many types of hormonal imbalances and factors that can affect it I decided to define it with yes or no. So, in the real world a person should only answer if they suffer from any type of hormonal imbalance (Yes, No). Have a look at the code that I will run in a data set."
   ]
  },
  {
   "cell_type": "markdown",
   "metadata": {},
   "source": [
    "```\n",
    "# Hormonal imbalance variable\n",
    "Hor_imba = ['Yes', 'No']\n",
    "# Random choice, size 500, ratio \n",
    "df['Hor_imba'] = np.random.choice(Hor_imba, 500, p=[0.40, 0.60]) \n",
    "```"
   ]
  },
  {
   "cell_type": "markdown",
   "metadata": {},
   "source": [
    "Statistics show that 80 percent of women suffer from hormonal imbalance. Some women live with these imbalances without even realizing it. As men usually don't suffer from hormonal imbalance as much as women, I will set the ratio to 60/40 (60% = Yes, 40% = No) for the purposes of this project since there is no accurate statistical information of people suffering from hormonal imbalance in Ireland. "
   ]
  },
  {
   "cell_type": "markdown",
   "metadata": {},
   "source": [
    "### Data frame"
   ]
  },
  {
   "cell_type": "markdown",
   "metadata": {},
   "source": [
    "My simulated data frame has 6 variables that I find relevant to see if there is any relationship between hormonal imbalance and weight changes in humans. To see the relationship between these variables I will include some demographics like age and gender. As I want to determine relationship between hormonal imbalance and weight I needed to include height variable to calculate Body Mass Index which will give us significant information about the shape of human body. To start with my data frame I will include below mentioned libraries. "
   ]
  },
  {
   "cell_type": "code",
   "execution_count": 1,
   "metadata": {},
   "outputs": [],
   "source": [
    "# Import pandas\n",
    "# Import numpy\n",
    "# Import seaborn\n",
    "import pandas as pd\n",
    "import numpy as np\n",
    "import seaborn as sns\n",
    "# Data frame that consists of 6 variables: Age, Sex, Weight, Height, BMI, Hor_imba\n",
    "df = pd.DataFrame(columns=['Age', 'Sex', 'Weight', 'Height', 'BMI', 'Hor_imba']) "
   ]
  },
  {
   "cell_type": "markdown",
   "metadata": {},
   "source": [
    "#### 1. Age"
   ]
  },
  {
   "cell_type": "code",
   "execution_count": 25,
   "metadata": {},
   "outputs": [
    {
     "data": {
      "text/plain": [
       "array([27, 40, 56, 59, 38, 57, 29, 32, 58, 38, 25, 38, 23, 56, 33, 52, 21,\n",
       "       27, 51, 48, 35, 23, 50, 22, 57, 43, 44, 40, 45, 50, 32, 54, 20, 38,\n",
       "       58, 48, 33, 43, 29, 47, 25, 59, 27, 51, 41, 55, 36, 42, 44, 40, 28,\n",
       "       56, 48, 29, 23, 38, 57, 36, 50, 57, 35, 48, 37, 52, 41, 27, 51, 57,\n",
       "       40, 34, 55, 58, 25, 56, 43, 48, 38, 18, 53, 48, 43, 36, 49, 41, 18,\n",
       "       34, 20, 21, 22, 43, 28, 36, 49, 42, 46, 33, 20, 45, 57, 39, 24, 41,\n",
       "       19, 33, 56, 28, 24, 30, 40, 26, 18, 28, 24, 47, 22, 55, 45, 40, 27,\n",
       "       40, 18, 29, 51, 27, 53, 23, 33, 39, 23, 54, 53, 37, 59, 29, 37, 24,\n",
       "       27, 45, 54, 41, 38, 46, 31, 39, 51, 21, 37, 29, 56, 23, 25, 49, 22,\n",
       "       55, 30, 54, 44, 41, 18, 54, 34, 20, 57, 39, 56, 18, 56, 36, 33, 19,\n",
       "       46, 29, 52, 46, 19, 24, 52, 47, 30, 39, 28, 25, 31, 46, 58, 24, 54,\n",
       "       51, 21, 52, 58, 27, 26, 57, 25, 53, 19, 34, 31, 39, 34, 24, 53, 38,\n",
       "       25, 58, 26, 53, 23, 29, 29, 35, 54, 40, 27, 32, 58, 54, 49, 50, 19,\n",
       "       37, 59, 53, 37, 51, 57, 56, 19, 46, 25, 19, 31, 38, 36, 45, 27, 53,\n",
       "       25, 29, 23, 25, 46, 59, 51, 31, 55, 42, 24, 40, 47, 39, 48, 41, 31,\n",
       "       46, 52, 41, 35, 58, 57, 47, 48, 45, 22, 48, 32, 22, 27, 26, 28, 28,\n",
       "       34, 24, 27, 23, 28, 31, 28, 42, 21, 29, 32, 41, 59, 49, 42, 19, 28,\n",
       "       45, 18, 33, 51, 39, 51, 40, 29, 54, 40, 29, 23, 23, 57, 40, 23, 21,\n",
       "       52, 18, 55, 58, 42, 22, 56, 55, 24, 50, 26, 52, 59, 24, 30, 29, 36,\n",
       "       50, 19, 34, 45, 23, 40, 37, 52, 52, 21, 34, 46, 57, 46, 25, 43, 45,\n",
       "       49, 57, 46, 31, 29, 18, 26, 44, 23, 41, 41, 29, 52, 41, 55, 26, 59,\n",
       "       36, 27, 50, 50, 34, 52, 58, 30, 33, 19, 51, 31, 53, 33, 19, 24, 40,\n",
       "       51, 41, 19, 42, 20, 32, 37, 59, 29, 59, 43, 34, 31, 46, 47, 47, 36,\n",
       "       30, 47, 18, 45, 18, 47, 37, 20, 24, 21, 54, 40, 30, 49, 29, 26, 28,\n",
       "       51, 42, 22, 21, 24, 21, 56, 45, 45, 25, 25, 47, 36, 33, 20, 40, 59,\n",
       "       26, 29, 42, 20, 41, 48, 48, 56, 29, 30, 54, 36, 19, 18, 37, 25, 57,\n",
       "       33, 48, 24, 56, 34, 36, 59, 42, 46, 41, 40, 21, 24, 29, 25, 51, 35,\n",
       "       56, 41, 30, 53, 22, 56, 38, 44, 33, 30, 31, 54, 34, 41, 51, 56, 59,\n",
       "       29, 35, 20, 23, 32, 42, 51, 38, 18, 39, 36, 59, 24, 39, 51, 34, 43,\n",
       "       24, 40, 44, 57, 25, 25, 37])"
      ]
     },
     "execution_count": 25,
     "metadata": {},
     "output_type": "execute_result"
    }
   ],
   "source": [
    "# Returns a random years of age in a range from 18 up to 60\n",
    "Age = np.random.randint(18,60, 500)\n",
    "Age"
   ]
  },
  {
   "cell_type": "code",
   "execution_count": 26,
   "metadata": {},
   "outputs": [
    {
     "data": {
      "text/plain": [
       "38.198"
      ]
     },
     "execution_count": 26,
     "metadata": {},
     "output_type": "execute_result"
    }
   ],
   "source": [
    "# Meaan of age\n",
    "np.mean(Age)"
   ]
  },
  {
   "cell_type": "code",
   "execution_count": 27,
   "metadata": {},
   "outputs": [
    {
     "data": {
      "text/plain": [
       "38.0"
      ]
     },
     "execution_count": 27,
     "metadata": {},
     "output_type": "execute_result"
    }
   ],
   "source": [
    "# Median of age\n",
    "np.median(Age)"
   ]
  },
  {
   "cell_type": "code",
   "execution_count": 28,
   "metadata": {},
   "outputs": [
    {
     "data": {
      "image/png": "[encoded data removed]",
      "text/plain": [
       "<Figure size 432x288 with 1 Axes>"
      ]
     },
     "metadata": {
      "needs_background": "light"
     },
     "output_type": "display_data"
    }
   ],
   "source": [
    "# Import seaborn to show distribution on the plot\n",
    "import seaborn as sns\n",
    "Age = sns.distplot(Age, bins=20, color=\"blue\")"
   ]
  },
  {
   "cell_type": "markdown",
   "metadata": {},
   "source": [
    "#### 2.Sex"
   ]
  },
  {
   "cell_type": "code",
   "execution_count": 29,
   "metadata": {},
   "outputs": [],
   "source": [
    "#Create the Male/ Female object\n",
    "Sex = ['Male', 'Female']"
   ]
  },
  {
   "cell_type": "code",
   "execution_count": 30,
   "metadata": {},
   "outputs": [
    {
     "data": {
      "text/plain": [
       "['Male', 'Female']"
      ]
     },
     "execution_count": 30,
     "metadata": {},
     "output_type": "execute_result"
    }
   ],
   "source": [
    "Sex"
   ]
  },
  {
   "cell_type": "markdown",
   "metadata": {},
   "source": [
    "#### 3. Weight"
   ]
  },
  {
   "cell_type": "code",
   "execution_count": 31,
   "metadata": {},
   "outputs": [],
   "source": [
    "Weight = np.random.normal (72.00, 10, 500)\n",
    "            "
   ]
  },
  {
   "cell_type": "code",
   "execution_count": 32,
   "metadata": {},
   "outputs": [
    {
     "name": "stdout",
     "output_type": "stream",
     "text": [
      "Average weight(kg):\n",
      "71.93\n",
      "Minimum weight(kg):\n",
      "43.58\n",
      "Maximum weight(kg):\n",
      "105.41\n"
     ]
    }
   ],
   "source": [
    "print ('Average weight(kg):')\n",
    "print (np.mean(Weight).round(2))\n",
    "print ('Minimum weight(kg):')\n",
    "print  (np.min(Weight).round(2))\n",
    "print ('Maximum weight(kg):')\n",
    "print (np.max(Weight).round(2))"
   ]
  },
  {
   "cell_type": "code",
   "execution_count": 33,
   "metadata": {},
   "outputs": [
    {
     "data": {
      "image/png": "[encoded data removed]",
      "text/plain": [
       "<Figure size 432x288 with 1 Axes>"
      ]
     },
     "metadata": {
      "needs_background": "light"
     },
     "output_type": "display_data"
    }
   ],
   "source": [
    "# Import seaborn to show distribution on the plot\n",
    "import seaborn as sns\n",
    "Weight = sns.distplot(Weight, bins=20, color=\"blue\")"
   ]
  },
  {
   "cell_type": "markdown",
   "metadata": {},
   "source": [
    "#### 4. Height"
   ]
  },
  {
   "cell_type": "code",
   "execution_count": 34,
   "metadata": {},
   "outputs": [],
   "source": [
    "Height = np.random.normal (173.00, 10.00, 500)"
   ]
  },
  {
   "cell_type": "code",
   "execution_count": 35,
   "metadata": {},
   "outputs": [
    {
     "name": "stdout",
     "output_type": "stream",
     "text": [
      "Average height(cm):\n",
      "172.58817928025167\n",
      "Minimum Height(cm):\n",
      "141.99\n",
      "Maximum Height(cm):\n",
      "206.51\n"
     ]
    }
   ],
   "source": [
    "print ('Average height(cm):')\n",
    "print (np.mean(Height))\n",
    "print ('Minimum Height(cm):')\n",
    "print  (np.min(Height).round(2))\n",
    "print ('Maximum Height(cm):')\n",
    "print (np.max(Height).round(2))"
   ]
  },
  {
   "cell_type": "code",
   "execution_count": 36,
   "metadata": {},
   "outputs": [
    {
     "data": {
      "image/png": "[encoded data removed]",
      "text/plain": [
       "<Figure size 432x288 with 1 Axes>"
      ]
     },
     "metadata": {
      "needs_background": "light"
     },
     "output_type": "display_data"
    }
   ],
   "source": [
    "# Import seaborn to show distribution on the plot\n",
    "import seaborn as sns\n",
    "Height = sns.distplot(Height, bins=20, color=\"blue\")"
   ]
  },
  {
   "cell_type": "markdown",
   "metadata": {},
   "source": [
    "#### 5. BMI"
   ]
  },
  {
   "cell_type": "code",
   "execution_count": 37,
   "metadata": {},
   "outputs": [],
   "source": [
    "\n",
    "BMI = df['Weight']/df['Height']*2"
   ]
  },
  {
   "cell_type": "code",
   "execution_count": 38,
   "metadata": {},
   "outputs": [
    {
     "data": {
      "text/plain": [
       "Series([], dtype: object)"
      ]
     },
     "execution_count": 38,
     "metadata": {},
     "output_type": "execute_result"
    }
   ],
   "source": [
    "BMI*100\n"
   ]
  },
  {
   "cell_type": "markdown",
   "metadata": {},
   "source": [
    "#### 6. Hormonal Imbalance "
   ]
  },
  {
   "cell_type": "code",
   "execution_count": 39,
   "metadata": {},
   "outputs": [],
   "source": [
    "Hor_imba = ['Yes', 'No']\n"
   ]
  },
  {
   "cell_type": "code",
   "execution_count": 40,
   "metadata": {},
   "outputs": [
    {
     "data": {
      "text/plain": [
       "['Yes', 'No']"
      ]
     },
     "execution_count": 40,
     "metadata": {},
     "output_type": "execute_result"
    }
   ],
   "source": [
    "Hor_imba"
   ]
  },
  {
   "cell_type": "markdown",
   "metadata": {},
   "source": [
    "### Data frame"
   ]
  },
  {
   "cell_type": "code",
   "execution_count": 41,
   "metadata": {},
   "outputs": [
    {
     "data": {
      "text/html": [
       "<div>\n",
       "<style scoped>\n",
       "    .dataframe tbody tr th:only-of-type {\n",
       "        vertical-align: middle;\n",
       "    }\n",
       "\n",
       "    .dataframe tbody tr th {\n",
       "        vertical-align: top;\n",
       "    }\n",
       "\n",
       "    .dataframe thead th {\n",
       "        text-align: right;\n",
       "    }\n",
       "</style>\n",
       "<table border=\"1\" class=\"dataframe\">\n",
       "  <thead>\n",
       "    <tr style=\"text-align: right;\">\n",
       "      <th></th>\n",
       "      <th>Age</th>\n",
       "      <th>Sex</th>\n",
       "      <th>Weight</th>\n",
       "      <th>Height</th>\n",
       "      <th>BMI</th>\n",
       "      <th>Hor_imba</th>\n",
       "    </tr>\n",
       "  </thead>\n",
       "  <tbody>\n",
       "    <tr>\n",
       "      <th>0</th>\n",
       "      <td>39</td>\n",
       "      <td>Male</td>\n",
       "      <td>82.40</td>\n",
       "      <td>169.01</td>\n",
       "      <td>28.85</td>\n",
       "      <td>No</td>\n",
       "    </tr>\n",
       "    <tr>\n",
       "      <th>1</th>\n",
       "      <td>22</td>\n",
       "      <td>Male</td>\n",
       "      <td>64.82</td>\n",
       "      <td>178.46</td>\n",
       "      <td>20.35</td>\n",
       "      <td>No</td>\n",
       "    </tr>\n",
       "    <tr>\n",
       "      <th>2</th>\n",
       "      <td>31</td>\n",
       "      <td>Female</td>\n",
       "      <td>56.10</td>\n",
       "      <td>176.30</td>\n",
       "      <td>18.05</td>\n",
       "      <td>Yes</td>\n",
       "    </tr>\n",
       "    <tr>\n",
       "      <th>3</th>\n",
       "      <td>18</td>\n",
       "      <td>Female</td>\n",
       "      <td>74.02</td>\n",
       "      <td>183.79</td>\n",
       "      <td>21.91</td>\n",
       "      <td>No</td>\n",
       "    </tr>\n",
       "    <tr>\n",
       "      <th>4</th>\n",
       "      <td>58</td>\n",
       "      <td>Female</td>\n",
       "      <td>74.76</td>\n",
       "      <td>171.84</td>\n",
       "      <td>25.32</td>\n",
       "      <td>No</td>\n",
       "    </tr>\n",
       "    <tr>\n",
       "      <th>5</th>\n",
       "      <td>52</td>\n",
       "      <td>Female</td>\n",
       "      <td>78.80</td>\n",
       "      <td>171.50</td>\n",
       "      <td>26.79</td>\n",
       "      <td>No</td>\n",
       "    </tr>\n",
       "    <tr>\n",
       "      <th>6</th>\n",
       "      <td>50</td>\n",
       "      <td>Male</td>\n",
       "      <td>74.75</td>\n",
       "      <td>155.50</td>\n",
       "      <td>30.91</td>\n",
       "      <td>Yes</td>\n",
       "    </tr>\n",
       "    <tr>\n",
       "      <th>7</th>\n",
       "      <td>59</td>\n",
       "      <td>Male</td>\n",
       "      <td>79.39</td>\n",
       "      <td>165.64</td>\n",
       "      <td>28.93</td>\n",
       "      <td>No</td>\n",
       "    </tr>\n",
       "    <tr>\n",
       "      <th>8</th>\n",
       "      <td>54</td>\n",
       "      <td>Male</td>\n",
       "      <td>68.20</td>\n",
       "      <td>170.46</td>\n",
       "      <td>23.47</td>\n",
       "      <td>Yes</td>\n",
       "    </tr>\n",
       "    <tr>\n",
       "      <th>9</th>\n",
       "      <td>48</td>\n",
       "      <td>Male</td>\n",
       "      <td>86.30</td>\n",
       "      <td>145.91</td>\n",
       "      <td>40.54</td>\n",
       "      <td>Yes</td>\n",
       "    </tr>\n",
       "    <tr>\n",
       "      <th>10</th>\n",
       "      <td>26</td>\n",
       "      <td>Male</td>\n",
       "      <td>73.36</td>\n",
       "      <td>165.07</td>\n",
       "      <td>26.92</td>\n",
       "      <td>Yes</td>\n",
       "    </tr>\n",
       "    <tr>\n",
       "      <th>11</th>\n",
       "      <td>31</td>\n",
       "      <td>Male</td>\n",
       "      <td>70.96</td>\n",
       "      <td>183.71</td>\n",
       "      <td>21.02</td>\n",
       "      <td>Yes</td>\n",
       "    </tr>\n",
       "    <tr>\n",
       "      <th>12</th>\n",
       "      <td>51</td>\n",
       "      <td>Male</td>\n",
       "      <td>81.75</td>\n",
       "      <td>184.21</td>\n",
       "      <td>24.09</td>\n",
       "      <td>No</td>\n",
       "    </tr>\n",
       "    <tr>\n",
       "      <th>13</th>\n",
       "      <td>27</td>\n",
       "      <td>Male</td>\n",
       "      <td>61.51</td>\n",
       "      <td>171.94</td>\n",
       "      <td>20.81</td>\n",
       "      <td>Yes</td>\n",
       "    </tr>\n",
       "    <tr>\n",
       "      <th>14</th>\n",
       "      <td>53</td>\n",
       "      <td>Female</td>\n",
       "      <td>75.20</td>\n",
       "      <td>179.25</td>\n",
       "      <td>23.40</td>\n",
       "      <td>Yes</td>\n",
       "    </tr>\n",
       "    <tr>\n",
       "      <th>15</th>\n",
       "      <td>24</td>\n",
       "      <td>Female</td>\n",
       "      <td>52.27</td>\n",
       "      <td>157.99</td>\n",
       "      <td>20.94</td>\n",
       "      <td>Yes</td>\n",
       "    </tr>\n",
       "    <tr>\n",
       "      <th>16</th>\n",
       "      <td>57</td>\n",
       "      <td>Male</td>\n",
       "      <td>71.26</td>\n",
       "      <td>178.21</td>\n",
       "      <td>22.44</td>\n",
       "      <td>No</td>\n",
       "    </tr>\n",
       "    <tr>\n",
       "      <th>17</th>\n",
       "      <td>32</td>\n",
       "      <td>Female</td>\n",
       "      <td>83.34</td>\n",
       "      <td>177.63</td>\n",
       "      <td>26.41</td>\n",
       "      <td>Yes</td>\n",
       "    </tr>\n",
       "    <tr>\n",
       "      <th>18</th>\n",
       "      <td>48</td>\n",
       "      <td>Male</td>\n",
       "      <td>89.96</td>\n",
       "      <td>172.21</td>\n",
       "      <td>30.34</td>\n",
       "      <td>Yes</td>\n",
       "    </tr>\n",
       "    <tr>\n",
       "      <th>19</th>\n",
       "      <td>19</td>\n",
       "      <td>Male</td>\n",
       "      <td>64.01</td>\n",
       "      <td>160.83</td>\n",
       "      <td>24.75</td>\n",
       "      <td>Yes</td>\n",
       "    </tr>\n",
       "    <tr>\n",
       "      <th>20</th>\n",
       "      <td>45</td>\n",
       "      <td>Male</td>\n",
       "      <td>62.75</td>\n",
       "      <td>181.43</td>\n",
       "      <td>19.07</td>\n",
       "      <td>Yes</td>\n",
       "    </tr>\n",
       "    <tr>\n",
       "      <th>21</th>\n",
       "      <td>36</td>\n",
       "      <td>Male</td>\n",
       "      <td>83.34</td>\n",
       "      <td>172.39</td>\n",
       "      <td>28.04</td>\n",
       "      <td>Yes</td>\n",
       "    </tr>\n",
       "    <tr>\n",
       "      <th>22</th>\n",
       "      <td>31</td>\n",
       "      <td>Male</td>\n",
       "      <td>90.13</td>\n",
       "      <td>176.91</td>\n",
       "      <td>28.80</td>\n",
       "      <td>No</td>\n",
       "    </tr>\n",
       "    <tr>\n",
       "      <th>23</th>\n",
       "      <td>46</td>\n",
       "      <td>Female</td>\n",
       "      <td>86.75</td>\n",
       "      <td>173.97</td>\n",
       "      <td>28.66</td>\n",
       "      <td>Yes</td>\n",
       "    </tr>\n",
       "    <tr>\n",
       "      <th>24</th>\n",
       "      <td>32</td>\n",
       "      <td>Male</td>\n",
       "      <td>68.96</td>\n",
       "      <td>168.23</td>\n",
       "      <td>24.37</td>\n",
       "      <td>Yes</td>\n",
       "    </tr>\n",
       "    <tr>\n",
       "      <th>25</th>\n",
       "      <td>29</td>\n",
       "      <td>Male</td>\n",
       "      <td>66.69</td>\n",
       "      <td>168.43</td>\n",
       "      <td>23.51</td>\n",
       "      <td>Yes</td>\n",
       "    </tr>\n",
       "    <tr>\n",
       "      <th>26</th>\n",
       "      <td>56</td>\n",
       "      <td>Female</td>\n",
       "      <td>70.99</td>\n",
       "      <td>184.90</td>\n",
       "      <td>20.77</td>\n",
       "      <td>No</td>\n",
       "    </tr>\n",
       "    <tr>\n",
       "      <th>27</th>\n",
       "      <td>39</td>\n",
       "      <td>Male</td>\n",
       "      <td>53.27</td>\n",
       "      <td>187.52</td>\n",
       "      <td>15.15</td>\n",
       "      <td>No</td>\n",
       "    </tr>\n",
       "    <tr>\n",
       "      <th>28</th>\n",
       "      <td>54</td>\n",
       "      <td>Female</td>\n",
       "      <td>66.58</td>\n",
       "      <td>175.86</td>\n",
       "      <td>21.53</td>\n",
       "      <td>Yes</td>\n",
       "    </tr>\n",
       "    <tr>\n",
       "      <th>29</th>\n",
       "      <td>55</td>\n",
       "      <td>Male</td>\n",
       "      <td>81.86</td>\n",
       "      <td>178.65</td>\n",
       "      <td>25.65</td>\n",
       "      <td>No</td>\n",
       "    </tr>\n",
       "    <tr>\n",
       "      <th>...</th>\n",
       "      <td>...</td>\n",
       "      <td>...</td>\n",
       "      <td>...</td>\n",
       "      <td>...</td>\n",
       "      <td>...</td>\n",
       "      <td>...</td>\n",
       "    </tr>\n",
       "    <tr>\n",
       "      <th>470</th>\n",
       "      <td>35</td>\n",
       "      <td>Female</td>\n",
       "      <td>60.09</td>\n",
       "      <td>173.01</td>\n",
       "      <td>20.08</td>\n",
       "      <td>Yes</td>\n",
       "    </tr>\n",
       "    <tr>\n",
       "      <th>471</th>\n",
       "      <td>58</td>\n",
       "      <td>Male</td>\n",
       "      <td>89.52</td>\n",
       "      <td>174.47</td>\n",
       "      <td>29.41</td>\n",
       "      <td>No</td>\n",
       "    </tr>\n",
       "    <tr>\n",
       "      <th>472</th>\n",
       "      <td>31</td>\n",
       "      <td>Male</td>\n",
       "      <td>58.03</td>\n",
       "      <td>168.96</td>\n",
       "      <td>20.33</td>\n",
       "      <td>Yes</td>\n",
       "    </tr>\n",
       "    <tr>\n",
       "      <th>473</th>\n",
       "      <td>39</td>\n",
       "      <td>Female</td>\n",
       "      <td>83.94</td>\n",
       "      <td>179.80</td>\n",
       "      <td>25.97</td>\n",
       "      <td>Yes</td>\n",
       "    </tr>\n",
       "    <tr>\n",
       "      <th>474</th>\n",
       "      <td>54</td>\n",
       "      <td>Male</td>\n",
       "      <td>81.89</td>\n",
       "      <td>177.68</td>\n",
       "      <td>25.94</td>\n",
       "      <td>Yes</td>\n",
       "    </tr>\n",
       "    <tr>\n",
       "      <th>475</th>\n",
       "      <td>23</td>\n",
       "      <td>Female</td>\n",
       "      <td>68.77</td>\n",
       "      <td>153.16</td>\n",
       "      <td>29.32</td>\n",
       "      <td>Yes</td>\n",
       "    </tr>\n",
       "    <tr>\n",
       "      <th>476</th>\n",
       "      <td>53</td>\n",
       "      <td>Male</td>\n",
       "      <td>65.94</td>\n",
       "      <td>169.90</td>\n",
       "      <td>22.84</td>\n",
       "      <td>Yes</td>\n",
       "    </tr>\n",
       "    <tr>\n",
       "      <th>477</th>\n",
       "      <td>46</td>\n",
       "      <td>Male</td>\n",
       "      <td>81.48</td>\n",
       "      <td>175.34</td>\n",
       "      <td>26.50</td>\n",
       "      <td>Yes</td>\n",
       "    </tr>\n",
       "    <tr>\n",
       "      <th>478</th>\n",
       "      <td>19</td>\n",
       "      <td>Male</td>\n",
       "      <td>72.00</td>\n",
       "      <td>180.96</td>\n",
       "      <td>21.99</td>\n",
       "      <td>Yes</td>\n",
       "    </tr>\n",
       "    <tr>\n",
       "      <th>479</th>\n",
       "      <td>24</td>\n",
       "      <td>Female</td>\n",
       "      <td>72.45</td>\n",
       "      <td>178.93</td>\n",
       "      <td>22.63</td>\n",
       "      <td>Yes</td>\n",
       "    </tr>\n",
       "    <tr>\n",
       "      <th>480</th>\n",
       "      <td>46</td>\n",
       "      <td>Female</td>\n",
       "      <td>75.45</td>\n",
       "      <td>169.10</td>\n",
       "      <td>26.38</td>\n",
       "      <td>No</td>\n",
       "    </tr>\n",
       "    <tr>\n",
       "      <th>481</th>\n",
       "      <td>18</td>\n",
       "      <td>Male</td>\n",
       "      <td>68.39</td>\n",
       "      <td>180.27</td>\n",
       "      <td>21.05</td>\n",
       "      <td>Yes</td>\n",
       "    </tr>\n",
       "    <tr>\n",
       "      <th>482</th>\n",
       "      <td>25</td>\n",
       "      <td>Female</td>\n",
       "      <td>74.06</td>\n",
       "      <td>181.22</td>\n",
       "      <td>22.55</td>\n",
       "      <td>Yes</td>\n",
       "    </tr>\n",
       "    <tr>\n",
       "      <th>483</th>\n",
       "      <td>52</td>\n",
       "      <td>Female</td>\n",
       "      <td>72.92</td>\n",
       "      <td>178.92</td>\n",
       "      <td>22.78</td>\n",
       "      <td>Yes</td>\n",
       "    </tr>\n",
       "    <tr>\n",
       "      <th>484</th>\n",
       "      <td>37</td>\n",
       "      <td>Female</td>\n",
       "      <td>60.92</td>\n",
       "      <td>174.02</td>\n",
       "      <td>20.12</td>\n",
       "      <td>No</td>\n",
       "    </tr>\n",
       "    <tr>\n",
       "      <th>485</th>\n",
       "      <td>22</td>\n",
       "      <td>Female</td>\n",
       "      <td>52.16</td>\n",
       "      <td>180.63</td>\n",
       "      <td>15.99</td>\n",
       "      <td>Yes</td>\n",
       "    </tr>\n",
       "    <tr>\n",
       "      <th>486</th>\n",
       "      <td>44</td>\n",
       "      <td>Female</td>\n",
       "      <td>61.11</td>\n",
       "      <td>176.42</td>\n",
       "      <td>19.63</td>\n",
       "      <td>Yes</td>\n",
       "    </tr>\n",
       "    <tr>\n",
       "      <th>487</th>\n",
       "      <td>35</td>\n",
       "      <td>Male</td>\n",
       "      <td>85.89</td>\n",
       "      <td>169.67</td>\n",
       "      <td>29.84</td>\n",
       "      <td>Yes</td>\n",
       "    </tr>\n",
       "    <tr>\n",
       "      <th>488</th>\n",
       "      <td>38</td>\n",
       "      <td>Male</td>\n",
       "      <td>83.74</td>\n",
       "      <td>161.30</td>\n",
       "      <td>32.19</td>\n",
       "      <td>No</td>\n",
       "    </tr>\n",
       "    <tr>\n",
       "      <th>489</th>\n",
       "      <td>37</td>\n",
       "      <td>Female</td>\n",
       "      <td>65.81</td>\n",
       "      <td>151.79</td>\n",
       "      <td>28.56</td>\n",
       "      <td>Yes</td>\n",
       "    </tr>\n",
       "    <tr>\n",
       "      <th>490</th>\n",
       "      <td>32</td>\n",
       "      <td>Female</td>\n",
       "      <td>91.12</td>\n",
       "      <td>174.44</td>\n",
       "      <td>29.94</td>\n",
       "      <td>No</td>\n",
       "    </tr>\n",
       "    <tr>\n",
       "      <th>491</th>\n",
       "      <td>19</td>\n",
       "      <td>Female</td>\n",
       "      <td>71.08</td>\n",
       "      <td>166.57</td>\n",
       "      <td>25.62</td>\n",
       "      <td>Yes</td>\n",
       "    </tr>\n",
       "    <tr>\n",
       "      <th>492</th>\n",
       "      <td>27</td>\n",
       "      <td>Male</td>\n",
       "      <td>69.51</td>\n",
       "      <td>183.47</td>\n",
       "      <td>20.65</td>\n",
       "      <td>Yes</td>\n",
       "    </tr>\n",
       "    <tr>\n",
       "      <th>493</th>\n",
       "      <td>18</td>\n",
       "      <td>Male</td>\n",
       "      <td>77.76</td>\n",
       "      <td>178.28</td>\n",
       "      <td>24.47</td>\n",
       "      <td>Yes</td>\n",
       "    </tr>\n",
       "    <tr>\n",
       "      <th>494</th>\n",
       "      <td>33</td>\n",
       "      <td>Male</td>\n",
       "      <td>51.78</td>\n",
       "      <td>159.81</td>\n",
       "      <td>20.27</td>\n",
       "      <td>Yes</td>\n",
       "    </tr>\n",
       "    <tr>\n",
       "      <th>495</th>\n",
       "      <td>30</td>\n",
       "      <td>Male</td>\n",
       "      <td>57.31</td>\n",
       "      <td>167.73</td>\n",
       "      <td>20.37</td>\n",
       "      <td>Yes</td>\n",
       "    </tr>\n",
       "    <tr>\n",
       "      <th>496</th>\n",
       "      <td>23</td>\n",
       "      <td>Male</td>\n",
       "      <td>77.21</td>\n",
       "      <td>185.49</td>\n",
       "      <td>22.44</td>\n",
       "      <td>No</td>\n",
       "    </tr>\n",
       "    <tr>\n",
       "      <th>497</th>\n",
       "      <td>31</td>\n",
       "      <td>Female</td>\n",
       "      <td>79.95</td>\n",
       "      <td>175.52</td>\n",
       "      <td>25.95</td>\n",
       "      <td>No</td>\n",
       "    </tr>\n",
       "    <tr>\n",
       "      <th>498</th>\n",
       "      <td>53</td>\n",
       "      <td>Male</td>\n",
       "      <td>71.03</td>\n",
       "      <td>168.10</td>\n",
       "      <td>25.14</td>\n",
       "      <td>Yes</td>\n",
       "    </tr>\n",
       "    <tr>\n",
       "      <th>499</th>\n",
       "      <td>30</td>\n",
       "      <td>Male</td>\n",
       "      <td>75.67</td>\n",
       "      <td>171.27</td>\n",
       "      <td>25.80</td>\n",
       "      <td>No</td>\n",
       "    </tr>\n",
       "  </tbody>\n",
       "</table>\n",
       "<p>500 rows × 6 columns</p>\n",
       "</div>"
      ],
      "text/plain": [
       "     Age     Sex  Weight  Height    BMI Hor_imba\n",
       "0     39    Male   82.40  169.01  28.85       No\n",
       "1     22    Male   64.82  178.46  20.35       No\n",
       "2     31  Female   56.10  176.30  18.05      Yes\n",
       "3     18  Female   74.02  183.79  21.91       No\n",
       "4     58  Female   74.76  171.84  25.32       No\n",
       "5     52  Female   78.80  171.50  26.79       No\n",
       "6     50    Male   74.75  155.50  30.91      Yes\n",
       "7     59    Male   79.39  165.64  28.93       No\n",
       "8     54    Male   68.20  170.46  23.47      Yes\n",
       "9     48    Male   86.30  145.91  40.54      Yes\n",
       "10    26    Male   73.36  165.07  26.92      Yes\n",
       "11    31    Male   70.96  183.71  21.02      Yes\n",
       "12    51    Male   81.75  184.21  24.09       No\n",
       "13    27    Male   61.51  171.94  20.81      Yes\n",
       "14    53  Female   75.20  179.25  23.40      Yes\n",
       "15    24  Female   52.27  157.99  20.94      Yes\n",
       "16    57    Male   71.26  178.21  22.44       No\n",
       "17    32  Female   83.34  177.63  26.41      Yes\n",
       "18    48    Male   89.96  172.21  30.34      Yes\n",
       "19    19    Male   64.01  160.83  24.75      Yes\n",
       "20    45    Male   62.75  181.43  19.07      Yes\n",
       "21    36    Male   83.34  172.39  28.04      Yes\n",
       "22    31    Male   90.13  176.91  28.80       No\n",
       "23    46  Female   86.75  173.97  28.66      Yes\n",
       "24    32    Male   68.96  168.23  24.37      Yes\n",
       "25    29    Male   66.69  168.43  23.51      Yes\n",
       "26    56  Female   70.99  184.90  20.77       No\n",
       "27    39    Male   53.27  187.52  15.15       No\n",
       "28    54  Female   66.58  175.86  21.53      Yes\n",
       "29    55    Male   81.86  178.65  25.65       No\n",
       "..   ...     ...     ...     ...    ...      ...\n",
       "470   35  Female   60.09  173.01  20.08      Yes\n",
       "471   58    Male   89.52  174.47  29.41       No\n",
       "472   31    Male   58.03  168.96  20.33      Yes\n",
       "473   39  Female   83.94  179.80  25.97      Yes\n",
       "474   54    Male   81.89  177.68  25.94      Yes\n",
       "475   23  Female   68.77  153.16  29.32      Yes\n",
       "476   53    Male   65.94  169.90  22.84      Yes\n",
       "477   46    Male   81.48  175.34  26.50      Yes\n",
       "478   19    Male   72.00  180.96  21.99      Yes\n",
       "479   24  Female   72.45  178.93  22.63      Yes\n",
       "480   46  Female   75.45  169.10  26.38       No\n",
       "481   18    Male   68.39  180.27  21.05      Yes\n",
       "482   25  Female   74.06  181.22  22.55      Yes\n",
       "483   52  Female   72.92  178.92  22.78      Yes\n",
       "484   37  Female   60.92  174.02  20.12       No\n",
       "485   22  Female   52.16  180.63  15.99      Yes\n",
       "486   44  Female   61.11  176.42  19.63      Yes\n",
       "487   35    Male   85.89  169.67  29.84      Yes\n",
       "488   38    Male   83.74  161.30  32.19       No\n",
       "489   37  Female   65.81  151.79  28.56      Yes\n",
       "490   32  Female   91.12  174.44  29.94       No\n",
       "491   19  Female   71.08  166.57  25.62      Yes\n",
       "492   27    Male   69.51  183.47  20.65      Yes\n",
       "493   18    Male   77.76  178.28  24.47      Yes\n",
       "494   33    Male   51.78  159.81  20.27      Yes\n",
       "495   30    Male   57.31  167.73  20.37      Yes\n",
       "496   23    Male   77.21  185.49  22.44       No\n",
       "497   31  Female   79.95  175.52  25.95       No\n",
       "498   53    Male   71.03  168.10  25.14      Yes\n",
       "499   30    Male   75.67  171.27  25.80       No\n",
       "\n",
       "[500 rows x 6 columns]"
      ]
     },
     "execution_count": 41,
     "metadata": {},
     "output_type": "execute_result"
    }
   ],
   "source": [
    "df = pd.DataFrame(columns=['Age', 'Sex', 'Weight', 'Height', 'BMI', 'Hor_imba']) \n",
    "# Sex column divided into male and female\n",
    "df['Sex'] = np.random.choice(Sex, 500, p=[0.49, 0.51])\n",
    "df['Age'] = np.random.randint(18,60, 500)\n",
    "df['Weight'] = np.random.normal (72.00, 10, 500)    \n",
    "df['Height']= np.random.normal(173.00, 10.00, 500)\n",
    "df['BMI'] = df['Weight']/df['Height']**2*10000\n",
    "df['Hor_imba'] = np.random.choice(Hor_imba, 500, p=[0.60, 0.40])  \n",
    "df.round({'Height': 2, 'Weight':2, 'BMI': 2})\n",
    "\n"
   ]
  },
  {
   "cell_type": "markdown",
   "metadata": {},
   "source": [
    "References:\n",
    "\n",
    "- Weight gain: https://en.wikipedia.org/wiki/Weight_gain [viewed 30th November, 2019]\n",
    "- Weight gain: https://www.ncbi.nlm.nih.gov/pmc/articles/PMC3147122/ [viewed 30th November, 2019]\n",
    "- Types of hormones: https://www.hormone.org/what-is-endocrinology/the-endocrine-system [viewed 28th November, 2019]\n",
    "    \n",
    "    "
   ]
  },
  {
   "cell_type": "code",
   "execution_count": null,
   "metadata": {},
   "outputs": [],
   "source": []
  }
 ],
 "metadata": {
  "kernelspec": {
   "display_name": "Python 3",
   "language": "python",
   "name": "python3"
  },
  "language_info": {
   "codemirror_mode": {
    "name": "ipython",
    "version": 3
   },
   "file_extension": ".py",
   "mimetype": "text/x-python",
   "name": "python",
   "nbconvert_exporter": "python",
   "pygments_lexer": "ipython3",
   "version": "3.7.3"
  }
 },
 "nbformat": 4,
 "nbformat_minor": 2
}
